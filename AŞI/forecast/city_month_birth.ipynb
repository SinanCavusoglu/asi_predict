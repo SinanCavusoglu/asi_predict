{
 "cells": [
  {
   "cell_type": "code",
   "execution_count": 19,
   "metadata": {},
   "outputs": [],
   "source": [
    "import pandas as pd"
   ]
  },
  {
   "cell_type": "code",
   "execution_count": 20,
   "metadata": {},
   "outputs": [],
   "source": [
    "excel_dict = {}\n",
    "for year in range(2009,2024):\n",
    "    excel_dict[f\"birth_cities_{year}\"] = pd.read_excel(f\"dataset/city_excel/{year}.xlsx\")"
   ]
  },
  {
   "cell_type": "code",
   "execution_count": 21,
   "metadata": {},
   "outputs": [],
   "source": [
    "for year in range(2009,2024):\n",
    "    month ={\"Ocak\": f\"01-01-{year}\", \"Şubat\": f\"01-02-{year}\",\n",
    "            \"Mart\": f\"01-03-{year}\", \"Nisan\": f\"01-04-{year}\",\n",
    "            \"Mayıs\": f\"01-05-{year}\", \"Haziran\": f\"01-06-{year}\",\n",
    "            \"Temmuz\": f\"01-07-{year}\", \"Ağustos\": f\"01-08-{year}\",\n",
    "            \"Eylül\": f\"01-09-{year}\", \"Ekim\": f\"01-10-{year}\",\n",
    "            \"Kasım\": f\"01-11-{year}\", \"Aralık\": f\"01-12-{year}\"}\n",
    "    df_melted = excel_dict[f\"birth_cities_{year}\"].melt(id_vars=[\"İBBS-SR\"], var_name=\"Month\", value_name=\"Value\")\n",
    "    df_pivoted = df_melted.pivot(index=\"Month\", columns=\"İBBS-SR\", values=\"Value\")\n",
    "    excel_dict[f\"birth_cities_{year}\"] = df_pivoted.rename(index=month)\n",
    "    excel_dict[f\"birth_cities_{year}\"].index = pd.to_datetime(excel_dict[f\"birth_cities_{year}\"].index, format='%d-%m-%Y')\n",
    "    excel_dict[f\"birth_cities_{year}\"] = excel_dict[f\"birth_cities_{year}\"].sort_index()"
   ]
  },
  {
   "cell_type": "code",
   "execution_count": 22,
   "metadata": {},
   "outputs": [],
   "source": [
    "df = pd.concat(excel_dict.values())"
   ]
  },
  {
   "cell_type": "code",
   "execution_count": 35,
   "metadata": {},
   "outputs": [],
   "source": [
    "df.to_csv(\"dataset/city_month_birth.csv\")"
   ]
  }
 ],
 "metadata": {
  "kernelspec": {
   "display_name": "tubitak",
   "language": "python",
   "name": "python3"
  },
  "language_info": {
   "codemirror_mode": {
    "name": "ipython",
    "version": 3
   },
   "file_extension": ".py",
   "mimetype": "text/x-python",
   "name": "python",
   "nbconvert_exporter": "python",
   "pygments_lexer": "ipython3",
   "version": "3.9.19"
  }
 },
 "nbformat": 4,
 "nbformat_minor": 2
}
